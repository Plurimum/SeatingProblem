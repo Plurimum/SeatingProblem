{
 "cells": [
  {
   "cell_type": "code",
   "execution_count": 1,
   "metadata": {
    "collapsed": true,
    "ExecuteTime": {
     "start_time": "2023-04-24T18:11:04.642577Z",
     "end_time": "2023-04-24T18:11:05.701525Z"
    }
   },
   "outputs": [],
   "source": [
    "fun recalculateVisits(tables: List<MutableList<Int>>, playersVisits: Map<Int, BooleanArray>) {\n",
    "    tables.forEach {table ->\n",
    "        for (i in table.indices) {\n",
    "            val player = table[i]\n",
    "\n",
    "            for (j in table.indices) {\n",
    "                if (i == j) {\n",
    "                    continue\n",
    "                }\n",
    "\n",
    "                playersVisits[player]!![table[j]] = true\n",
    "            }\n",
    "        }\n",
    "    }\n",
    "}"
   ]
  },
  {
   "cell_type": "code",
   "execution_count": 2,
   "outputs": [],
   "source": [
    "fun getFreeSeatInd(table: List<Int>): Int {\n",
    "    for (i in table.indices) {\n",
    "        if (table[i] == -1) {\n",
    "            return i\n",
    "        }\n",
    "    }\n",
    "\n",
    "    return -1\n",
    "}"
   ],
   "metadata": {
    "collapsed": false,
    "ExecuteTime": {
     "start_time": "2023-04-24T18:11:05.695543Z",
     "end_time": "2023-04-24T18:11:05.824199Z"
    }
   }
  },
  {
   "cell_type": "code",
   "execution_count": 3,
   "outputs": [],
   "source": [
    "fun findBiggestPotentialTable(\n",
    "    tables: List<MutableList<Int>>,\n",
    "    playersVisits: Map<Int, BooleanArray>,\n",
    "    playerNum: Int\n",
    "): Int {\n",
    "    val tableKnownPersons = IntArray(tables.size) { Int.MAX_VALUE }\n",
    "\n",
    "    for (tableInd in tables.indices) {\n",
    "        var knownCount = 0\n",
    "        val table: List<Int> = tables[tableInd]\n",
    "\n",
    "        if (!isTableHasFreeSeat(table)) {\n",
    "            continue\n",
    "        }\n",
    "\n",
    "        table.forEach {\n",
    "            if (it == -1) {\n",
    "                return@forEach\n",
    "            }\n",
    "\n",
    "            if (playersVisits[it]!![playerNum]) {\n",
    "                knownCount++\n",
    "            }\n",
    "        }\n",
    "\n",
    "        tableKnownPersons[tableInd] = knownCount\n",
    "    }\n",
    "\n",
    "    var minKnownPersons = Int.MAX_VALUE\n",
    "    var maxTableValueInd = -1\n",
    "\n",
    "    for (tableInd in tableKnownPersons.indices) {\n",
    "        if (tableKnownPersons[tableInd] < minKnownPersons) {\n",
    "            minKnownPersons = tableKnownPersons[tableInd]\n",
    "            maxTableValueInd = tableInd\n",
    "        }\n",
    "    }\n",
    "\n",
    "    return maxTableValueInd\n",
    "}"
   ],
   "metadata": {
    "collapsed": false,
    "ExecuteTime": {
     "start_time": "2023-04-24T18:11:05.823200Z",
     "end_time": "2023-04-24T18:11:06.193212Z"
    }
   }
  },
  {
   "cell_type": "code",
   "execution_count": 4,
   "outputs": [],
   "source": [
    "fun isTableHasFreeSeat(table: List<Int>): Boolean {\n",
    "    return table.stream()\n",
    "        .anyMatch { playerNum: Int -> playerNum == -1 }\n",
    "}"
   ],
   "metadata": {
    "collapsed": false,
    "ExecuteTime": {
     "start_time": "2023-04-24T18:11:06.196203Z",
     "end_time": "2023-04-24T18:11:06.361761Z"
    }
   }
  },
  {
   "cell_type": "code",
   "execution_count": 5,
   "outputs": [],
   "source": [
    "fun findIntrovert(playersVisits: Map<Int, BooleanArray>): Int {\n",
    "    var maxUnvisited = 0\n",
    "    var player = -1\n",
    "\n",
    "    for ((curPlayer) in playersVisits) {\n",
    "        var countUnvisited = 0\n",
    "\n",
    "        for (j in playersVisits[curPlayer]!!.indices) {\n",
    "            if (!playersVisits[curPlayer]!![j]) {\n",
    "                countUnvisited++\n",
    "            }\n",
    "        }\n",
    "\n",
    "        if (countUnvisited > maxUnvisited) {\n",
    "            maxUnvisited = countUnvisited\n",
    "            player = curPlayer\n",
    "        }\n",
    "    }\n",
    "\n",
    "    return player\n",
    "}"
   ],
   "metadata": {
    "collapsed": false,
    "ExecuteTime": {
     "start_time": "2023-04-24T18:11:06.365753Z",
     "end_time": "2023-04-24T18:11:06.628057Z"
    }
   }
  },
  {
   "cell_type": "code",
   "execution_count": 6,
   "outputs": [],
   "source": [
    "fun seatPlayers(tables: List<MutableList<Int>>, playersVisits: Map<Int, BooleanArray>) {\n",
    "    val playersQueue: MutableMap<Int, BooleanArray> = HashMap(playersVisits)\n",
    "\n",
    "    while (playersQueue.isNotEmpty()) {\n",
    "        val introvertNum = findIntrovert(playersQueue)\n",
    "\n",
    "        playersQueue.remove(introvertNum)\n",
    "\n",
    "        val bestTableInd = findBiggestPotentialTable(tables, playersVisits, introvertNum)\n",
    "        val freeSeatInd = getFreeSeatInd(tables[bestTableInd])\n",
    "\n",
    "        tables[bestTableInd][freeSeatInd] = introvertNum\n",
    "    }\n",
    "\n",
    "    recalculateVisits(tables, playersVisits)\n",
    "}"
   ],
   "metadata": {
    "collapsed": false,
    "ExecuteTime": {
     "start_time": "2023-04-24T18:11:06.625066Z",
     "end_time": "2023-04-24T18:11:06.917781Z"
    }
   }
  },
  {
   "cell_type": "code",
   "execution_count": 7,
   "outputs": [],
   "source": [
    "fun printSchedule(schedule: List<List<MutableList<Int>>>) {\n",
    "    for (day in schedule.indices) {\n",
    "        println(\"day $day\\n\")\n",
    "\n",
    "        for (table in schedule[day].indices) {\n",
    "            print(\"table $table: \")\n",
    "\n",
    "            for (i in schedule[day][table].indices) {\n",
    "                print(schedule[day][table][i].toString() + \" \")\n",
    "            }\n",
    "            println()\n",
    "        }\n",
    "        println()\n",
    "    }\n",
    "}"
   ],
   "metadata": {
    "collapsed": false,
    "ExecuteTime": {
     "start_time": "2023-04-24T18:11:06.920772Z",
     "end_time": "2023-04-24T18:11:07.163670Z"
    }
   }
  },
  {
   "cell_type": "code",
   "execution_count": 8,
   "outputs": [],
   "source": [
    "fun printPlayers(players: Map<Int, BooleanArray>) {\n",
    "    for (i in 0 until players.size) {\n",
    "        print(\"player $i visited: \")\n",
    "        for (j in players[i]!!.indices) {\n",
    "            if (players[i]!![j]) {\n",
    "                print(\"$j \")\n",
    "            }\n",
    "        }\n",
    "        println()\n",
    "    }\n",
    "}"
   ],
   "metadata": {
    "collapsed": false,
    "ExecuteTime": {
     "start_time": "2023-04-24T18:11:07.165665Z",
     "end_time": "2023-04-24T18:11:07.345184Z"
    }
   }
  },
  {
   "cell_type": "code",
   "execution_count": 9,
   "outputs": [],
   "source": [
    "fun main() {\n",
    "    val playersCount = 8\n",
    "    val days = 2\n",
    "    val tablesSeatsCount = intArrayOf(3, 3, 2).sortedArrayDescending()\n",
    "\n",
    "    val playersVisits: Map<Int, BooleanArray> = (0 until playersCount).associateWith { BooleanArray(playersCount) }\n",
    "\n",
    "\n",
    "    val schedule = (0 until days).map {\n",
    "        tablesSeatsCount.map {\n",
    "            (0 until it).map { -1 }\n",
    "                .toMutableList()\n",
    "        }.toMutableList()\n",
    "    }.toMutableList()\n",
    "\n",
    "    for (day in 0 until days) {\n",
    "        seatPlayers(schedule[day], playersVisits)\n",
    "    }\n",
    "\n",
    "    printSchedule(schedule)\n",
    "    printPlayers(playersVisits)\n",
    "}"
   ],
   "metadata": {
    "collapsed": false,
    "ExecuteTime": {
     "start_time": "2023-04-24T18:11:07.342193Z",
     "end_time": "2023-04-24T18:11:07.729158Z"
    }
   }
  },
  {
   "cell_type": "code",
   "execution_count": 10,
   "outputs": [
    {
     "name": "stdout",
     "output_type": "stream",
     "text": [
      "day 0\n",
      "\r\n",
      "table 0: 0 1 2 \r\n",
      "table 1: 3 4 5 \r\n",
      "table 2: 6 7 \r\n",
      "\r\n",
      "day 1\n",
      "\r\n",
      "table 0: 6 0 3 \r\n",
      "table 1: 7 1 4 \r\n",
      "table 2: 2 5 \r\n",
      "\r\n",
      "player 0 visited: 1 2 3 6 \r\n",
      "player 1 visited: 0 2 4 7 \r\n",
      "player 2 visited: 0 1 5 \r\n",
      "player 3 visited: 0 4 5 6 \r\n",
      "player 4 visited: 1 3 5 7 \r\n",
      "player 5 visited: 2 3 4 \r\n",
      "player 6 visited: 0 3 7 \r\n",
      "player 7 visited: 1 4 6 \r\n"
     ]
    }
   ],
   "source": [
    "main()"
   ],
   "metadata": {
    "collapsed": false,
    "ExecuteTime": {
     "start_time": "2023-04-24T18:11:07.733147Z",
     "end_time": "2023-04-24T18:11:07.829887Z"
    }
   }
  }
 ],
 "metadata": {
  "kernelspec": {
   "display_name": "Kotlin",
   "language": "kotlin",
   "name": "kotlin"
  },
  "language_info": {
   "name": "kotlin",
   "version": "1.8.0",
   "mimetype": "text/x-kotlin",
   "file_extension": ".kt",
   "pygments_lexer": "kotlin",
   "codemirror_mode": "text/x-kotlin",
   "nbconvert_exporter": ""
  }
 },
 "nbformat": 4,
 "nbformat_minor": 0
}
